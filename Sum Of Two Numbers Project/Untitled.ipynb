{
 "cells": [
  {
   "cell_type": "markdown",
   "id": "1b066a91",
   "metadata": {},
   "source": [
    "# Addition of two numbers using Machine Learning"
   ]
  },
  {
   "cell_type": "markdown",
   "id": "15c66abe",
   "metadata": {},
   "source": [
    "## Import the Libraries"
   ]
  },
  {
   "cell_type": "code",
   "execution_count": 1,
   "id": "bcbab0ad",
   "metadata": {},
   "outputs": [],
   "source": [
    "import pandas as pd"
   ]
  },
  {
   "cell_type": "markdown",
   "id": "73a6cec4",
   "metadata": {},
   "source": [
    "## Read the csv file"
   ]
  },
  {
   "cell_type": "code",
   "execution_count": 2,
   "id": "7ca9b0a0",
   "metadata": {},
   "outputs": [],
   "source": [
    "data = pd.read_csv('add1.csv')"
   ]
  },
  {
   "cell_type": "code",
   "execution_count": 4,
   "id": "77f95e06",
   "metadata": {},
   "outputs": [
    {
     "data": {
      "text/html": [
       "<div>\n",
       "<style scoped>\n",
       "    .dataframe tbody tr th:only-of-type {\n",
       "        vertical-align: middle;\n",
       "    }\n",
       "\n",
       "    .dataframe tbody tr th {\n",
       "        vertical-align: top;\n",
       "    }\n",
       "\n",
       "    .dataframe thead th {\n",
       "        text-align: right;\n",
       "    }\n",
       "</style>\n",
       "<table border=\"1\" class=\"dataframe\">\n",
       "  <thead>\n",
       "    <tr style=\"text-align: right;\">\n",
       "      <th></th>\n",
       "      <th>x</th>\n",
       "      <th>y</th>\n",
       "      <th>sum</th>\n",
       "    </tr>\n",
       "  </thead>\n",
       "  <tbody>\n",
       "    <tr>\n",
       "      <th>0</th>\n",
       "      <td>1.0</td>\n",
       "      <td>1.0</td>\n",
       "      <td>2.0</td>\n",
       "    </tr>\n",
       "    <tr>\n",
       "      <th>1</th>\n",
       "      <td>2.0</td>\n",
       "      <td>2.0</td>\n",
       "      <td>4.0</td>\n",
       "    </tr>\n",
       "    <tr>\n",
       "      <th>2</th>\n",
       "      <td>4.0</td>\n",
       "      <td>4.0</td>\n",
       "      <td>8.0</td>\n",
       "    </tr>\n",
       "    <tr>\n",
       "      <th>3</th>\n",
       "      <td>6.0</td>\n",
       "      <td>6.0</td>\n",
       "      <td>12.0</td>\n",
       "    </tr>\n",
       "    <tr>\n",
       "      <th>4</th>\n",
       "      <td>7.0</td>\n",
       "      <td>7.0</td>\n",
       "      <td>14.0</td>\n",
       "    </tr>\n",
       "    <tr>\n",
       "      <th>5</th>\n",
       "      <td>10.0</td>\n",
       "      <td>10.0</td>\n",
       "      <td>20.0</td>\n",
       "    </tr>\n",
       "    <tr>\n",
       "      <th>6</th>\n",
       "      <td>14.0</td>\n",
       "      <td>14.0</td>\n",
       "      <td>28.0</td>\n",
       "    </tr>\n",
       "    <tr>\n",
       "      <th>7</th>\n",
       "      <td>21.0</td>\n",
       "      <td>21.0</td>\n",
       "      <td>42.0</td>\n",
       "    </tr>\n",
       "    <tr>\n",
       "      <th>8</th>\n",
       "      <td>24.0</td>\n",
       "      <td>24.0</td>\n",
       "      <td>48.0</td>\n",
       "    </tr>\n",
       "    <tr>\n",
       "      <th>9</th>\n",
       "      <td>25.3</td>\n",
       "      <td>27.7</td>\n",
       "      <td>53.0</td>\n",
       "    </tr>\n",
       "    <tr>\n",
       "      <th>10</th>\n",
       "      <td>18.3</td>\n",
       "      <td>16.4</td>\n",
       "      <td>34.7</td>\n",
       "    </tr>\n",
       "    <tr>\n",
       "      <th>11</th>\n",
       "      <td>33.2</td>\n",
       "      <td>54.5</td>\n",
       "      <td>87.7</td>\n",
       "    </tr>\n",
       "    <tr>\n",
       "      <th>12</th>\n",
       "      <td>43.0</td>\n",
       "      <td>49.0</td>\n",
       "      <td>92.0</td>\n",
       "    </tr>\n",
       "    <tr>\n",
       "      <th>13</th>\n",
       "      <td>102.0</td>\n",
       "      <td>86.0</td>\n",
       "      <td>188.0</td>\n",
       "    </tr>\n",
       "    <tr>\n",
       "      <th>14</th>\n",
       "      <td>97.4</td>\n",
       "      <td>17.3</td>\n",
       "      <td>114.7</td>\n",
       "    </tr>\n",
       "    <tr>\n",
       "      <th>15</th>\n",
       "      <td>65.0</td>\n",
       "      <td>49.0</td>\n",
       "      <td>114.0</td>\n",
       "    </tr>\n",
       "    <tr>\n",
       "      <th>16</th>\n",
       "      <td>300.0</td>\n",
       "      <td>200.0</td>\n",
       "      <td>500.0</td>\n",
       "    </tr>\n",
       "    <tr>\n",
       "      <th>17</th>\n",
       "      <td>216.0</td>\n",
       "      <td>118.0</td>\n",
       "      <td>334.0</td>\n",
       "    </tr>\n",
       "    <tr>\n",
       "      <th>18</th>\n",
       "      <td>287.0</td>\n",
       "      <td>312.0</td>\n",
       "      <td>599.0</td>\n",
       "    </tr>\n",
       "  </tbody>\n",
       "</table>\n",
       "</div>"
      ],
      "text/plain": [
       "        x      y    sum\n",
       "0     1.0    1.0    2.0\n",
       "1     2.0    2.0    4.0\n",
       "2     4.0    4.0    8.0\n",
       "3     6.0    6.0   12.0\n",
       "4     7.0    7.0   14.0\n",
       "5    10.0   10.0   20.0\n",
       "6    14.0   14.0   28.0\n",
       "7    21.0   21.0   42.0\n",
       "8    24.0   24.0   48.0\n",
       "9    25.3   27.7   53.0\n",
       "10   18.3   16.4   34.7\n",
       "11   33.2   54.5   87.7\n",
       "12   43.0   49.0   92.0\n",
       "13  102.0   86.0  188.0\n",
       "14   97.4   17.3  114.7\n",
       "15   65.0   49.0  114.0\n",
       "16  300.0  200.0  500.0\n",
       "17  216.0  118.0  334.0\n",
       "18  287.0  312.0  599.0"
      ]
     },
     "execution_count": 4,
     "metadata": {},
     "output_type": "execute_result"
    }
   ],
   "source": [
    "data"
   ]
  },
  {
   "cell_type": "markdown",
   "id": "890bbe5b",
   "metadata": {},
   "source": [
    "## View head of data list"
   ]
  },
  {
   "cell_type": "code",
   "execution_count": 5,
   "id": "19fa4346",
   "metadata": {},
   "outputs": [
    {
     "data": {
      "text/html": [
       "<div>\n",
       "<style scoped>\n",
       "    .dataframe tbody tr th:only-of-type {\n",
       "        vertical-align: middle;\n",
       "    }\n",
       "\n",
       "    .dataframe tbody tr th {\n",
       "        vertical-align: top;\n",
       "    }\n",
       "\n",
       "    .dataframe thead th {\n",
       "        text-align: right;\n",
       "    }\n",
       "</style>\n",
       "<table border=\"1\" class=\"dataframe\">\n",
       "  <thead>\n",
       "    <tr style=\"text-align: right;\">\n",
       "      <th></th>\n",
       "      <th>x</th>\n",
       "      <th>y</th>\n",
       "      <th>sum</th>\n",
       "    </tr>\n",
       "  </thead>\n",
       "  <tbody>\n",
       "    <tr>\n",
       "      <th>0</th>\n",
       "      <td>1.0</td>\n",
       "      <td>1.0</td>\n",
       "      <td>2.0</td>\n",
       "    </tr>\n",
       "    <tr>\n",
       "      <th>1</th>\n",
       "      <td>2.0</td>\n",
       "      <td>2.0</td>\n",
       "      <td>4.0</td>\n",
       "    </tr>\n",
       "    <tr>\n",
       "      <th>2</th>\n",
       "      <td>4.0</td>\n",
       "      <td>4.0</td>\n",
       "      <td>8.0</td>\n",
       "    </tr>\n",
       "    <tr>\n",
       "      <th>3</th>\n",
       "      <td>6.0</td>\n",
       "      <td>6.0</td>\n",
       "      <td>12.0</td>\n",
       "    </tr>\n",
       "    <tr>\n",
       "      <th>4</th>\n",
       "      <td>7.0</td>\n",
       "      <td>7.0</td>\n",
       "      <td>14.0</td>\n",
       "    </tr>\n",
       "  </tbody>\n",
       "</table>\n",
       "</div>"
      ],
      "text/plain": [
       "     x    y   sum\n",
       "0  1.0  1.0   2.0\n",
       "1  2.0  2.0   4.0\n",
       "2  4.0  4.0   8.0\n",
       "3  6.0  6.0  12.0\n",
       "4  7.0  7.0  14.0"
      ]
     },
     "execution_count": 5,
     "metadata": {},
     "output_type": "execute_result"
    }
   ],
   "source": [
    "data.head()"
   ]
  },
  {
   "cell_type": "markdown",
   "id": "058b80d7",
   "metadata": {},
   "source": [
    "## View tail of data set"
   ]
  },
  {
   "cell_type": "code",
   "execution_count": 6,
   "id": "8190615a",
   "metadata": {},
   "outputs": [
    {
     "data": {
      "text/html": [
       "<div>\n",
       "<style scoped>\n",
       "    .dataframe tbody tr th:only-of-type {\n",
       "        vertical-align: middle;\n",
       "    }\n",
       "\n",
       "    .dataframe tbody tr th {\n",
       "        vertical-align: top;\n",
       "    }\n",
       "\n",
       "    .dataframe thead th {\n",
       "        text-align: right;\n",
       "    }\n",
       "</style>\n",
       "<table border=\"1\" class=\"dataframe\">\n",
       "  <thead>\n",
       "    <tr style=\"text-align: right;\">\n",
       "      <th></th>\n",
       "      <th>x</th>\n",
       "      <th>y</th>\n",
       "      <th>sum</th>\n",
       "    </tr>\n",
       "  </thead>\n",
       "  <tbody>\n",
       "    <tr>\n",
       "      <th>14</th>\n",
       "      <td>97.4</td>\n",
       "      <td>17.3</td>\n",
       "      <td>114.7</td>\n",
       "    </tr>\n",
       "    <tr>\n",
       "      <th>15</th>\n",
       "      <td>65.0</td>\n",
       "      <td>49.0</td>\n",
       "      <td>114.0</td>\n",
       "    </tr>\n",
       "    <tr>\n",
       "      <th>16</th>\n",
       "      <td>300.0</td>\n",
       "      <td>200.0</td>\n",
       "      <td>500.0</td>\n",
       "    </tr>\n",
       "    <tr>\n",
       "      <th>17</th>\n",
       "      <td>216.0</td>\n",
       "      <td>118.0</td>\n",
       "      <td>334.0</td>\n",
       "    </tr>\n",
       "    <tr>\n",
       "      <th>18</th>\n",
       "      <td>287.0</td>\n",
       "      <td>312.0</td>\n",
       "      <td>599.0</td>\n",
       "    </tr>\n",
       "  </tbody>\n",
       "</table>\n",
       "</div>"
      ],
      "text/plain": [
       "        x      y    sum\n",
       "14   97.4   17.3  114.7\n",
       "15   65.0   49.0  114.0\n",
       "16  300.0  200.0  500.0\n",
       "17  216.0  118.0  334.0\n",
       "18  287.0  312.0  599.0"
      ]
     },
     "execution_count": 6,
     "metadata": {},
     "output_type": "execute_result"
    }
   ],
   "source": [
    "data.tail()"
   ]
  },
  {
   "cell_type": "markdown",
   "id": "b43cf792",
   "metadata": {},
   "source": [
    "## Cheacking number of column and rows in data set"
   ]
  },
  {
   "cell_type": "code",
   "execution_count": null,
   "id": "63fe9065",
   "metadata": {},
   "outputs": [],
   "source": [
    "data.shape"
   ]
  },
  {
   "cell_type": "markdown",
   "id": "6a6498b5",
   "metadata": {},
   "source": [
    "## Preproccessing for the    Checking missing values"
   ]
  },
  {
   "cell_type": "code",
   "execution_count": 8,
   "id": "17e3d6aa",
   "metadata": {},
   "outputs": [
    {
     "name": "stdout",
     "output_type": "stream",
     "text": [
      "<class 'pandas.core.frame.DataFrame'>\n",
      "RangeIndex: 19 entries, 0 to 18\n",
      "Data columns (total 3 columns):\n",
      " #   Column  Non-Null Count  Dtype  \n",
      "---  ------  --------------  -----  \n",
      " 0   x       19 non-null     float64\n",
      " 1   y       19 non-null     float64\n",
      " 2   sum     19 non-null     float64\n",
      "dtypes: float64(3)\n",
      "memory usage: 584.0 bytes\n"
     ]
    }
   ],
   "source": [
    "data.info()"
   ]
  },
  {
   "cell_type": "markdown",
   "id": "3c29402f",
   "metadata": {},
   "source": [
    "## EDA for relationship between input  and output"
   ]
  },
  {
   "cell_type": "markdown",
   "id": "a18ada4c",
   "metadata": {},
   "source": [
    "### Library import for  EDA"
   ]
  },
  {
   "cell_type": "code",
   "execution_count": 9,
   "id": "03071cde",
   "metadata": {},
   "outputs": [],
   "source": [
    "import matplotlib.pyplot as plt"
   ]
  },
  {
   "cell_type": "markdown",
   "id": "db229bf4",
   "metadata": {},
   "source": [
    "### Geeting graph input and output(X)"
   ]
  },
  {
   "cell_type": "code",
   "execution_count": 10,
   "id": "89051992",
   "metadata": {},
   "outputs": [
    {
     "data": {
      "text/plain": [
       "<matplotlib.collections.PathCollection at 0x18045563fd0>"
      ]
     },
     "execution_count": 10,
     "metadata": {},
     "output_type": "execute_result"
    },
    {
     "data": {
      "image/png": "[encoded data removed]",
      "text/plain": [
       "<Figure size 432x288 with 1 Axes>"
      ]
     },
     "metadata": {
      "needs_background": "light"
     },
     "output_type": "display_data"
    }
   ],
   "source": [
    "plt.scatter(data['x'],data['sum'])"
   ]
  },
  {
   "cell_type": "markdown",
   "id": "07bb9645",
   "metadata": {},
   "source": [
    "### Getting graph input and output(Y)"
   ]
  },
  {
   "cell_type": "code",
   "execution_count": 11,
   "id": "4560fe4c",
   "metadata": {},
   "outputs": [
    {
     "data": {
      "text/plain": [
       "<matplotlib.collections.PathCollection at 0x1804566f700>"
      ]
     },
     "execution_count": 11,
     "metadata": {},
     "output_type": "execute_result"
    },
    {
     "data": {
      "image/png": "[encoded data removed]",
      "text/plain": [
       "<Figure size 432x288 with 1 Axes>"
      ]
     },
     "metadata": {
      "needs_background": "light"
     },
     "output_type": "display_data"
    }
   ],
   "source": [
    "plt.scatter(data['y'],data['sum'])"
   ]
  },
  {
   "cell_type": "markdown",
   "id": "7cc9b109",
   "metadata": {},
   "source": [
    "## Decide the Algorithm"
   ]
  },
  {
   "cell_type": "markdown",
   "id": "34380bc8",
   "metadata": {},
   "source": [
    "Graph eka balala adaala Algorithm eka decide karanawa \n",
    "Mekata nam-----> Linear Regeation "
   ]
  },
  {
   "cell_type": "markdown",
   "id": "09e7428d",
   "metadata": {},
   "source": [
    "## Store Features"
   ]
  },
  {
   "cell_type": "markdown",
   "id": "46c7f23c",
   "metadata": {},
   "source": [
    "x --------> store inputs\n",
    "y---------> store outputs"
   ]
  },
  {
   "cell_type": "code",
   "execution_count": 13,
   "id": "b9fec977",
   "metadata": {},
   "outputs": [],
   "source": [
    "X=data[['x','y']]\n",
    "y= data['sum']\n"
   ]
  },
  {
   "cell_type": "markdown",
   "id": "77c4efe3",
   "metadata": {},
   "source": [
    "## Train data Set & Split data set"
   ]
  },
  {
   "cell_type": "markdown",
   "id": "7e4f94b8",
   "metadata": {},
   "source": [
    "### Impot Libraries"
   ]
  },
  {
   "cell_type": "markdown",
   "id": "c797a903",
   "metadata": {},
   "source": [
    "from sklearn.model_selection import train_test_split\n",
    "\n",
    "\n",
    "X_train, X_test, y_train, y_test = train_test_split(\n",
    "X, y, test_size=0.33, random_state=42)"
   ]
  },
  {
   "cell_type": "markdown",
   "id": "1a607168",
   "metadata": {},
   "source": [
    "### Training date in   X"
   ]
  },
  {
   "cell_type": "code",
   "execution_count": 21,
   "id": "d0cdafdd",
   "metadata": {},
   "outputs": [
    {
     "data": {
      "text/html": [
       "<div>\n",
       "<style scoped>\n",
       "    .dataframe tbody tr th:only-of-type {\n",
       "        vertical-align: middle;\n",
       "    }\n",
       "\n",
       "    .dataframe tbody tr th {\n",
       "        vertical-align: top;\n",
       "    }\n",
       "\n",
       "    .dataframe thead th {\n",
       "        text-align: right;\n",
       "    }\n",
       "</style>\n",
       "<table border=\"1\" class=\"dataframe\">\n",
       "  <thead>\n",
       "    <tr style=\"text-align: right;\">\n",
       "      <th></th>\n",
       "      <th>x</th>\n",
       "      <th>y</th>\n",
       "    </tr>\n",
       "  </thead>\n",
       "  <tbody>\n",
       "    <tr>\n",
       "      <th>13</th>\n",
       "      <td>102.0</td>\n",
       "      <td>86.0</td>\n",
       "    </tr>\n",
       "    <tr>\n",
       "      <th>15</th>\n",
       "      <td>65.0</td>\n",
       "      <td>49.0</td>\n",
       "    </tr>\n",
       "    <tr>\n",
       "      <th>17</th>\n",
       "      <td>216.0</td>\n",
       "      <td>118.0</td>\n",
       "    </tr>\n",
       "    <tr>\n",
       "      <th>2</th>\n",
       "      <td>4.0</td>\n",
       "      <td>4.0</td>\n",
       "    </tr>\n",
       "    <tr>\n",
       "      <th>9</th>\n",
       "      <td>25.3</td>\n",
       "      <td>27.7</td>\n",
       "    </tr>\n",
       "    <tr>\n",
       "      <th>18</th>\n",
       "      <td>287.0</td>\n",
       "      <td>312.0</td>\n",
       "    </tr>\n",
       "    <tr>\n",
       "      <th>4</th>\n",
       "      <td>7.0</td>\n",
       "      <td>7.0</td>\n",
       "    </tr>\n",
       "    <tr>\n",
       "      <th>12</th>\n",
       "      <td>43.0</td>\n",
       "      <td>49.0</td>\n",
       "    </tr>\n",
       "    <tr>\n",
       "      <th>7</th>\n",
       "      <td>21.0</td>\n",
       "      <td>21.0</td>\n",
       "    </tr>\n",
       "    <tr>\n",
       "      <th>10</th>\n",
       "      <td>18.3</td>\n",
       "      <td>16.4</td>\n",
       "    </tr>\n",
       "    <tr>\n",
       "      <th>14</th>\n",
       "      <td>97.4</td>\n",
       "      <td>17.3</td>\n",
       "    </tr>\n",
       "    <tr>\n",
       "      <th>6</th>\n",
       "      <td>14.0</td>\n",
       "      <td>14.0</td>\n",
       "    </tr>\n",
       "  </tbody>\n",
       "</table>\n",
       "</div>"
      ],
      "text/plain": [
       "        x      y\n",
       "13  102.0   86.0\n",
       "15   65.0   49.0\n",
       "17  216.0  118.0\n",
       "2     4.0    4.0\n",
       "9    25.3   27.7\n",
       "18  287.0  312.0\n",
       "4     7.0    7.0\n",
       "12   43.0   49.0\n",
       "7    21.0   21.0\n",
       "10   18.3   16.4\n",
       "14   97.4   17.3\n",
       "6    14.0   14.0"
      ]
     },
     "execution_count": 21,
     "metadata": {},
     "output_type": "execute_result"
    }
   ],
   "source": [
    "X_train"
   ]
  },
  {
   "cell_type": "markdown",
   "id": "2affc60d",
   "metadata": {},
   "source": [
    "### Training data in   y"
   ]
  },
  {
   "cell_type": "code",
   "execution_count": 22,
   "id": "a235033a",
   "metadata": {},
   "outputs": [
    {
     "data": {
      "text/plain": [
       "13    188.0\n",
       "15    114.0\n",
       "17    334.0\n",
       "2       8.0\n",
       "9      53.0\n",
       "18    599.0\n",
       "4      14.0\n",
       "12     92.0\n",
       "7      42.0\n",
       "10     34.7\n",
       "14    114.7\n",
       "6      28.0\n",
       "Name: sum, dtype: float64"
      ]
     },
     "execution_count": 22,
     "metadata": {},
     "output_type": "execute_result"
    }
   ],
   "source": [
    "y_train"
   ]
  },
  {
   "cell_type": "markdown",
   "id": "e789959a",
   "metadata": {},
   "source": [
    "## Train the Model"
   ]
  },
  {
   "cell_type": "markdown",
   "id": "eedecd78",
   "metadata": {},
   "source": [
    "### Import the library"
   ]
  },
  {
   "cell_type": "code",
   "execution_count": 23,
   "id": "9b619818",
   "metadata": {},
   "outputs": [],
   "source": [
    "from sklearn.linear_model import LinearRegression"
   ]
  },
  {
   "cell_type": "code",
   "execution_count": 24,
   "id": "fa06a687",
   "metadata": {},
   "outputs": [],
   "source": [
    "model=LinearRegression()"
   ]
  },
  {
   "cell_type": "markdown",
   "id": "67228d67",
   "metadata": {},
   "source": [
    "### train Model"
   ]
  },
  {
   "cell_type": "code",
   "execution_count": 25,
   "id": "4739f24a",
   "metadata": {},
   "outputs": [
    {
     "data": {
      "text/plain": [
       "LinearRegression()"
      ]
     },
     "execution_count": 25,
     "metadata": {},
     "output_type": "execute_result"
    }
   ],
   "source": [
    "model.fit(X_train,y_train)"
   ]
  },
  {
   "cell_type": "markdown",
   "id": "6bda4828",
   "metadata": {},
   "source": [
    "## Model's prediction performance Check"
   ]
  },
  {
   "cell_type": "code",
   "execution_count": 27,
   "id": "bb2f7a1c",
   "metadata": {},
   "outputs": [
    {
     "data": {
      "text/plain": [
       "1.0"
      ]
     },
     "execution_count": 27,
     "metadata": {},
     "output_type": "execute_result"
    }
   ],
   "source": [
    "model.score(X_train ,y_train)"
   ]
  },
  {
   "cell_type": "code",
   "execution_count": 28,
   "id": "e2b41ccb",
   "metadata": {},
   "outputs": [
    {
     "data": {
      "text/plain": [
       "1.0"
      ]
     },
     "execution_count": 28,
     "metadata": {},
     "output_type": "execute_result"
    }
   ],
   "source": [
    "model.score(X_test,y_test)"
   ]
  },
  {
   "cell_type": "markdown",
   "id": "76a3cfdd",
   "metadata": {},
   "source": [
    "## compare the Result"
   ]
  },
  {
   "cell_type": "code",
   "execution_count": 29,
   "id": "125f8385",
   "metadata": {},
   "outputs": [
    {
     "data": {
      "text/plain": [
       "array([  2. ,  20. ,  87.7,   4. ,  48. , 500. ,  12. ])"
      ]
     },
     "execution_count": 29,
     "metadata": {},
     "output_type": "execute_result"
    }
   ],
   "source": [
    "y_pred=model.predict(X_test)\n",
    "y_pred\n"
   ]
  },
  {
   "cell_type": "code",
   "execution_count": 30,
   "id": "be873ba2",
   "metadata": {},
   "outputs": [],
   "source": [
    "df=pd.DataFrame({'Actual': y_test , 'prediction': y_pred})"
   ]
  },
  {
   "cell_type": "code",
   "execution_count": 31,
   "id": "335840d0",
   "metadata": {},
   "outputs": [
    {
     "data": {
      "text/html": [
       "<div>\n",
       "<style scoped>\n",
       "    .dataframe tbody tr th:only-of-type {\n",
       "        vertical-align: middle;\n",
       "    }\n",
       "\n",
       "    .dataframe tbody tr th {\n",
       "        vertical-align: top;\n",
       "    }\n",
       "\n",
       "    .dataframe thead th {\n",
       "        text-align: right;\n",
       "    }\n",
       "</style>\n",
       "<table border=\"1\" class=\"dataframe\">\n",
       "  <thead>\n",
       "    <tr style=\"text-align: right;\">\n",
       "      <th></th>\n",
       "      <th>Actual</th>\n",
       "      <th>prediction</th>\n",
       "    </tr>\n",
       "  </thead>\n",
       "  <tbody>\n",
       "    <tr>\n",
       "      <th>0</th>\n",
       "      <td>2.0</td>\n",
       "      <td>2.0</td>\n",
       "    </tr>\n",
       "    <tr>\n",
       "      <th>5</th>\n",
       "      <td>20.0</td>\n",
       "      <td>20.0</td>\n",
       "    </tr>\n",
       "    <tr>\n",
       "      <th>11</th>\n",
       "      <td>87.7</td>\n",
       "      <td>87.7</td>\n",
       "    </tr>\n",
       "    <tr>\n",
       "      <th>1</th>\n",
       "      <td>4.0</td>\n",
       "      <td>4.0</td>\n",
       "    </tr>\n",
       "    <tr>\n",
       "      <th>8</th>\n",
       "      <td>48.0</td>\n",
       "      <td>48.0</td>\n",
       "    </tr>\n",
       "    <tr>\n",
       "      <th>16</th>\n",
       "      <td>500.0</td>\n",
       "      <td>500.0</td>\n",
       "    </tr>\n",
       "    <tr>\n",
       "      <th>3</th>\n",
       "      <td>12.0</td>\n",
       "      <td>12.0</td>\n",
       "    </tr>\n",
       "  </tbody>\n",
       "</table>\n",
       "</div>"
      ],
      "text/plain": [
       "    Actual  prediction\n",
       "0      2.0         2.0\n",
       "5     20.0        20.0\n",
       "11    87.7        87.7\n",
       "1      4.0         4.0\n",
       "8     48.0        48.0\n",
       "16   500.0       500.0\n",
       "3     12.0        12.0"
      ]
     },
     "execution_count": 31,
     "metadata": {},
     "output_type": "execute_result"
    }
   ],
   "source": [
    "df"
   ]
  },
  {
   "cell_type": "markdown",
   "id": "440b34eb",
   "metadata": {},
   "source": [
    "## prediction on new Sample"
   ]
  },
  {
   "cell_type": "markdown",
   "id": "6b5bc029",
   "metadata": {},
   "source": [
    "aluth sample ekkkata test karala beliima......"
   ]
  },
  {
   "cell_type": "code",
   "execution_count": 32,
   "id": "4a9265bf",
   "metadata": {},
   "outputs": [
    {
     "name": "stderr",
     "output_type": "stream",
     "text": [
      "C:\\ProgramData\\Anaconda3\\lib\\site-packages\\sklearn\\base.py:450: UserWarning: X does not have valid feature names, but LinearRegression was fitted with feature names\n",
      "  warnings.warn(\n"
     ]
    },
    {
     "data": {
      "text/plain": [
       "array([139.])"
      ]
     },
     "execution_count": 32,
     "metadata": {},
     "output_type": "execute_result"
    }
   ],
   "source": [
    "model.predict([[27,112]])"
   ]
  },
  {
   "cell_type": "code",
   "execution_count": 33,
   "id": "2a9610a2",
   "metadata": {},
   "outputs": [
    {
     "name": "stderr",
     "output_type": "stream",
     "text": [
      "C:\\ProgramData\\Anaconda3\\lib\\site-packages\\sklearn\\base.py:450: UserWarning: X does not have valid feature names, but LinearRegression was fitted with feature names\n",
      "  warnings.warn(\n"
     ]
    },
    {
     "data": {
      "text/plain": [
       "array([382.])"
      ]
     },
     "execution_count": 33,
     "metadata": {},
     "output_type": "execute_result"
    }
   ],
   "source": [
    "model.predict([[270,112]])"
   ]
  },
  {
   "cell_type": "code",
   "execution_count": 34,
   "id": "116baaab",
   "metadata": {},
   "outputs": [
    {
     "name": "stderr",
     "output_type": "stream",
     "text": [
      "C:\\ProgramData\\Anaconda3\\lib\\site-packages\\sklearn\\base.py:450: UserWarning: X does not have valid feature names, but LinearRegression was fitted with feature names\n",
      "  warnings.warn(\n"
     ]
    },
    {
     "data": {
      "text/plain": [
       "array([119.])"
      ]
     },
     "execution_count": 34,
     "metadata": {},
     "output_type": "execute_result"
    }
   ],
   "source": [
    "model.predict([[7,112]])"
   ]
  },
  {
   "cell_type": "markdown",
   "id": "4cf2b0be",
   "metadata": {},
   "source": [
    "## To Production process & Save"
   ]
  },
  {
   "cell_type": "markdown",
   "id": "cafcd684",
   "metadata": {},
   "source": [
    "### import Library"
   ]
  },
  {
   "cell_type": "code",
   "execution_count": 35,
   "id": "ad9e763b",
   "metadata": {},
   "outputs": [],
   "source": [
    "import joblib"
   ]
  },
  {
   "cell_type": "markdown",
   "id": "b5d31ef1",
   "metadata": {},
   "source": [
    "### Use some Method"
   ]
  },
  {
   "cell_type": "code",
   "execution_count": 36,
   "id": "67b6675b",
   "metadata": {},
   "outputs": [
    {
     "data": {
      "text/plain": [
       "['model_joblib']"
      ]
     },
     "execution_count": 36,
     "metadata": {},
     "output_type": "execute_result"
    }
   ],
   "source": [
    "joblib.dump(model ,'model_joblib')"
   ]
  },
  {
   "cell_type": "markdown",
   "id": "b8f7c3a9",
   "metadata": {},
   "source": [
    "### Load the model"
   ]
  },
  {
   "cell_type": "code",
   "execution_count": 37,
   "id": "0d0db5fc",
   "metadata": {},
   "outputs": [],
   "source": [
    "model=joblib.load('model_joblib')"
   ]
  },
  {
   "cell_type": "markdown",
   "id": "30d742c7",
   "metadata": {},
   "source": [
    "##  Train the fully  data set Again"
   ]
  },
  {
   "cell_type": "code",
   "execution_count": 38,
   "id": "30d351dc",
   "metadata": {},
   "outputs": [
    {
     "data": {
      "text/plain": [
       "LinearRegression()"
      ]
     },
     "execution_count": 38,
     "metadata": {},
     "output_type": "execute_result"
    }
   ],
   "source": [
    "X=data[['x','y']]\n",
    "y= data['sum']\n",
    "model=LinearRegression()\n",
    "model.fit(X,y)"
   ]
  },
  {
   "cell_type": "markdown",
   "id": "dafebed6",
   "metadata": {},
   "source": [
    "## Save the fully data set Again"
   ]
  },
  {
   "cell_type": "code",
   "execution_count": 39,
   "id": "1d3ed8b6",
   "metadata": {},
   "outputs": [],
   "source": [
    "import joblib\n",
    "joblib.dump(model,'model_joblib')\n",
    "model=joblib.load('model_joblib')"
   ]
  },
  {
   "cell_type": "markdown",
   "id": "ff2b34f3",
   "metadata": {},
   "source": [
    "## GUI"
   ]
  },
  {
   "cell_type": "markdown",
   "id": "3b354d29",
   "metadata": {},
   "source": [
    "### Import Library"
   ]
  },
  {
   "cell_type": "code",
   "execution_count": 40,
   "id": "686eb6e1",
   "metadata": {},
   "outputs": [],
   "source": [
    "from tkinter import *\n",
    "import joblib"
   ]
  },
  {
   "cell_type": "markdown",
   "id": "4249fc4c",
   "metadata": {},
   "source": [
    "### Put the function"
   ]
  },
  {
   "cell_type": "code",
   "execution_count": 47,
   "id": "b3f7889e",
   "metadata": {},
   "outputs": [],
   "source": [
    "def show_entry_fields(): \n",
    "\tp1=float(e1.get()) \n",
    "\tp2=float(e2.get())\n",
    "\n",
    "\n",
    "\tmodel=joblib.load('model_joblib') \n",
    "\tresult=model.predict([[p1,p2]])\n",
    "\n",
    "\tLabel(master,text='sum is = ').grid(row=4) \n",
    "\tLabel(master,text= result).grid(row=5)\n",
    "\n",
    "\tprint(\"sum is\", result)"
   ]
  },
  {
   "cell_type": "markdown",
   "id": "b58615c1",
   "metadata": {},
   "source": [
    "### Create interface"
   ]
  },
  {
   "cell_type": "code",
   "execution_count": 48,
   "id": "a26f1fc7",
   "metadata": {},
   "outputs": [],
   "source": [
    "master=Tk()\n",
    "master.title(\"Addition of two numbers using ML\")\n",
    "label= Label(master, text=\"addition of two numbers using ML\",bg='black',fg='white').grid(row=0,columnspan=2)"
   ]
  },
  {
   "cell_type": "code",
   "execution_count": 50,
   "id": "58184f2d",
   "metadata": {},
   "outputs": [
    {
     "ename": "TclError",
     "evalue": "can't invoke \"label\" command: application has been destroyed",
     "output_type": "error",
     "traceback": [
      "\u001b[1;31m---------------------------------------------------------------------------\u001b[0m",
      "\u001b[1;31mTclError\u001b[0m                                  Traceback (most recent call last)",
      "Input \u001b[1;32mIn [50]\u001b[0m, in \u001b[0;36m<cell line: 1>\u001b[1;34m()\u001b[0m\n\u001b[1;32m----> 1\u001b[0m \u001b[43mLabel\u001b[49m\u001b[43m(\u001b[49m\u001b[43mmaster\u001b[49m\u001b[43m,\u001b[49m\u001b[43mtext\u001b[49m\u001b[38;5;241;43m=\u001b[39;49m\u001b[38;5;124;43m\"\u001b[39;49m\u001b[38;5;124;43mEnter First Number\u001b[39;49m\u001b[38;5;124;43m\"\u001b[39;49m\u001b[43m)\u001b[49m\u001b[38;5;241m.\u001b[39mgrid(row\u001b[38;5;241m=\u001b[39m\u001b[38;5;241m1\u001b[39m)\n\u001b[0;32m      2\u001b[0m Label(master,text\u001b[38;5;241m=\u001b[39m\u001b[38;5;124m\"\u001b[39m\u001b[38;5;124mEnter Second Number\u001b[39m\u001b[38;5;124m\"\u001b[39m)\u001b[38;5;241m.\u001b[39mgrid(row\u001b[38;5;241m=\u001b[39m\u001b[38;5;241m2\u001b[39m)\n\u001b[0;32m      5\u001b[0m e1\u001b[38;5;241m=\u001b[39mEntry(master)\n",
      "File \u001b[1;32mC:\\ProgramData\\Anaconda3\\lib\\tkinter\\__init__.py:3148\u001b[0m, in \u001b[0;36mLabel.__init__\u001b[1;34m(self, master, cnf, **kw)\u001b[0m\n\u001b[0;32m   3130\u001b[0m \u001b[38;5;28;01mdef\u001b[39;00m \u001b[38;5;21m__init__\u001b[39m(\u001b[38;5;28mself\u001b[39m, master\u001b[38;5;241m=\u001b[39m\u001b[38;5;28;01mNone\u001b[39;00m, cnf\u001b[38;5;241m=\u001b[39m{}, \u001b[38;5;241m*\u001b[39m\u001b[38;5;241m*\u001b[39mkw):\n\u001b[0;32m   3131\u001b[0m     \u001b[38;5;124;03m\"\"\"Construct a label widget with the parent MASTER.\u001b[39;00m\n\u001b[0;32m   3132\u001b[0m \n\u001b[0;32m   3133\u001b[0m \u001b[38;5;124;03m    STANDARD OPTIONS\u001b[39;00m\n\u001b[1;32m   (...)\u001b[0m\n\u001b[0;32m   3146\u001b[0m \n\u001b[0;32m   3147\u001b[0m \u001b[38;5;124;03m    \"\"\"\u001b[39;00m\n\u001b[1;32m-> 3148\u001b[0m     \u001b[43mWidget\u001b[49m\u001b[38;5;241;43m.\u001b[39;49m\u001b[38;5;21;43m__init__\u001b[39;49m\u001b[43m(\u001b[49m\u001b[38;5;28;43mself\u001b[39;49m\u001b[43m,\u001b[49m\u001b[43m \u001b[49m\u001b[43mmaster\u001b[49m\u001b[43m,\u001b[49m\u001b[43m \u001b[49m\u001b[38;5;124;43m'\u001b[39;49m\u001b[38;5;124;43mlabel\u001b[39;49m\u001b[38;5;124;43m'\u001b[39;49m\u001b[43m,\u001b[49m\u001b[43m \u001b[49m\u001b[43mcnf\u001b[49m\u001b[43m,\u001b[49m\u001b[43m \u001b[49m\u001b[43mkw\u001b[49m\u001b[43m)\u001b[49m\n",
      "File \u001b[1;32mC:\\ProgramData\\Anaconda3\\lib\\tkinter\\__init__.py:2572\u001b[0m, in \u001b[0;36mBaseWidget.__init__\u001b[1;34m(self, master, widgetName, cnf, kw, extra)\u001b[0m\n\u001b[0;32m   2570\u001b[0m \u001b[38;5;28;01mfor\u001b[39;00m k, v \u001b[38;5;129;01min\u001b[39;00m classes:\n\u001b[0;32m   2571\u001b[0m     \u001b[38;5;28;01mdel\u001b[39;00m cnf[k]\n\u001b[1;32m-> 2572\u001b[0m \u001b[38;5;28;43mself\u001b[39;49m\u001b[38;5;241;43m.\u001b[39;49m\u001b[43mtk\u001b[49m\u001b[38;5;241;43m.\u001b[39;49m\u001b[43mcall\u001b[49m\u001b[43m(\u001b[49m\n\u001b[0;32m   2573\u001b[0m \u001b[43m    \u001b[49m\u001b[43m(\u001b[49m\u001b[43mwidgetName\u001b[49m\u001b[43m,\u001b[49m\u001b[43m \u001b[49m\u001b[38;5;28;43mself\u001b[39;49m\u001b[38;5;241;43m.\u001b[39;49m\u001b[43m_w\u001b[49m\u001b[43m)\u001b[49m\u001b[43m \u001b[49m\u001b[38;5;241;43m+\u001b[39;49m\u001b[43m \u001b[49m\u001b[43mextra\u001b[49m\u001b[43m \u001b[49m\u001b[38;5;241;43m+\u001b[39;49m\u001b[43m \u001b[49m\u001b[38;5;28;43mself\u001b[39;49m\u001b[38;5;241;43m.\u001b[39;49m\u001b[43m_options\u001b[49m\u001b[43m(\u001b[49m\u001b[43mcnf\u001b[49m\u001b[43m)\u001b[49m\u001b[43m)\u001b[49m\n\u001b[0;32m   2574\u001b[0m \u001b[38;5;28;01mfor\u001b[39;00m k, v \u001b[38;5;129;01min\u001b[39;00m classes:\n\u001b[0;32m   2575\u001b[0m     k\u001b[38;5;241m.\u001b[39mconfigure(\u001b[38;5;28mself\u001b[39m, v)\n",
      "\u001b[1;31mTclError\u001b[0m: can't invoke \"label\" command: application has been destroyed"
     ]
    }
   ],
   "source": [
    "Label(master,text=\"Enter First Number\").grid(row=1)\n",
    "Label(master,text=\"Enter Second Number\").grid(row=2)\n",
    "                                              \n",
    "                                              \n",
    "e1=Entry(master)\n",
    "e2=Entry(master)\n",
    "                                              \n",
    "                                              \n",
    "e1.grid(row=1,column=1)\n",
    "e2.grid(row=2,column=1)\n",
    "\n",
    "Button(master,text='predict',command= show_entry_fields ).grid()\n",
    "       \n",
    "       \n",
    "mainloop()"
   ]
  },
  {
   "cell_type": "code",
   "execution_count": null,
   "id": "b0b1f98b",
   "metadata": {},
   "outputs": [],
   "source": []
  }
 ],
 "metadata": {
  "kernelspec": {
   "display_name": "Python 3 (ipykernel)",
   "language": "python",
   "name": "python3"
  },
  "language_info": {
   "codemirror_mode": {
    "name": "ipython",
    "version": 3
   },
   "file_extension": ".py",
   "mimetype": "text/x-python",
   "name": "python",
   "nbconvert_exporter": "python",
   "pygments_lexer": "ipython3",
   "version": "3.9.12"
  }
 },
 "nbformat": 4,
 "nbformat_minor": 5
}
